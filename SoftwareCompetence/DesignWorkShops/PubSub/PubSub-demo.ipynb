{
 "cells": [
  {
   "cell_type": "markdown",
   "metadata": {
    "slideshow": {
     "slide_type": "slide"
    }
   },
   "source": [
    "# **Pub**/*Sub*  workshop -- Part I\n",
    "\n",
    "Some demos in python\n",
    "1. A complete implementation\n",
    "   2. A **Topic**-based, OO-style class\n",
    "   2. With a subscribe and a publish method\n",
    "1. Several *\"demo\"* subscribers\n",
    "   2. They just print  ...\n",
    "      - Real functionality is left to the reader\n",
    "   2. Both in function-style and in OO-style\n",
    "      - And, with a mixture \n",
    "1. And using it, by publishing *to all* \n",
    "   2. Life, interactive; in IPython (& Jupyter) notebook\n",
    "   2. *Revealjs* slides, generated from above\n",
    "   2. Both the notebook & slides are downloadable\n",
    "   \n",
    "-----\n",
    "\n",
    "Note: to *run* this yourself, Install:\n",
    "* Jupiter (https://jupyter.readthedocs.io/en/latest/install.html#install), via\n",
    "* Anaconda (https://www.anaconda.com/distribution/) \n",
    "* **Here** [Window 64](https://repo.anaconda.com/archive/Anaconda3-2020.02-Windows-x86_64.exe)\n"
   ]
  },
  {
   "cell_type": "markdown",
   "metadata": {
    "slideshow": {
     "slide_type": "slide"
    }
   },
   "source": [
    "## The basics: A Topic class\n",
    "* A simple ``Topic`` class\n",
    "* And a trivial function which is subscribed"
   ]
  },
  {
   "cell_type": "code",
   "execution_count": 1,
   "metadata": {
    "slideshow": {
     "slide_type": "subslide"
    }
   },
   "outputs": [],
   "source": [
    "class Topic():\n",
    "    def __init__(self, name=None, initial_value=None):\n",
    "        self.name = \"\" if name is None else str(name)\n",
    "        self._callbacks = []\n",
    "        self._value = initial_value\n",
    "\n",
    "    def subscribe(self, callback):\n",
    "        if not callback in self._callbacks:\n",
    "            self._callbacks.append(callback)\n",
    "\n",
    "    def publish(self, value, force=False):\n",
    "        if force or self._value != value:\n",
    "            self._call_callbacks(value)\n",
    "            self._value = value\n",
    "\n",
    "    def _call_callbacks(self, new_value):\n",
    "        for cb in self._callbacks:\n",
    "            cb(new_value, self)\n",
    "\n",
    "    def __str__(self):\n",
    "        return \"<<%s: '%s' at 0X%x>>\" % (\n",
    "            self.__class__.__name__, self.name, id(self))"
   ]
  },
  {
   "cell_type": "code",
   "execution_count": 2,
   "metadata": {
    "slideshow": {
     "slide_type": "-"
    }
   },
   "outputs": [],
   "source": [
    "def demo(val, topic):\n",
    "    print(\"Demo:: Topic: %s has new value: %s\" %(topic, val))"
   ]
  },
  {
   "cell_type": "markdown",
   "metadata": {
    "slideshow": {
     "slide_type": "slide"
    }
   },
   "source": [
    "# Demo 1\n",
    "* Create a topic\n",
    "* Subscribe ``demo``\n",
    "* Publish a value"
   ]
  },
  {
   "cell_type": "code",
   "execution_count": 3,
   "metadata": {
    "slideshow": {
     "slide_type": "subslide"
    }
   },
   "outputs": [],
   "source": [
    "t1=Topic(\"demo 1\")"
   ]
  },
  {
   "cell_type": "code",
   "execution_count": 4,
   "metadata": {
    "slideshow": {
     "slide_type": "-"
    }
   },
   "outputs": [],
   "source": [
    "t1.subscribe(demo)"
   ]
  },
  {
   "cell_type": "code",
   "execution_count": 5,
   "metadata": {},
   "outputs": [
    {
     "name": "stdout",
     "output_type": "stream",
     "text": [
      "Demo:: Topic: <<Topic: 'demo 1' at 0X22946bdc188>> has new value: HOI\n"
     ]
    }
   ],
   "source": [
    "t1.publish(\"HOI\")"
   ]
  },
  {
   "cell_type": "markdown",
   "metadata": {
    "slideshow": {
     "slide_type": "subslide"
    }
   },
   "source": [
    "## This pub/sub is *smart*\n",
    "* It will *not* distribute the same value twice. \n",
    "* Unless it is asked to do so (`force`)"
   ]
  },
  {
   "cell_type": "code",
   "execution_count": 6,
   "metadata": {},
   "outputs": [
    {
     "name": "stdout",
     "output_type": "stream",
     "text": [
      "Demo:: Topic: <<Topic: 'demo 1' at 0X22946bdc188>> has new value: AGAIN\n"
     ]
    }
   ],
   "source": [
    "# Only a changed value will be published\n",
    "t1.publish(\"AGAIN\")\n",
    "t1.publish(\"AGAIN\")"
   ]
  },
  {
   "cell_type": "code",
   "execution_count": 7,
   "metadata": {},
   "outputs": [
    {
     "name": "stdout",
     "output_type": "stream",
     "text": [
      "Demo:: Topic: <<Topic: 'demo 1' at 0X22946bdc188>> has new value: FORCE\n",
      "Demo:: Topic: <<Topic: 'demo 1' at 0X22946bdc188>> has new value: FORCE\n"
     ]
    }
   ],
   "source": [
    "# Unless we 'force' it\n",
    "t1.publish(\"FORCE\", force=True) # This force is needed, as it isn't \"again\" ...\n",
    "t1.publish(\"FORCE\", force=True)"
   ]
  },
  {
   "cell_type": "code",
   "execution_count": 8,
   "metadata": {},
   "outputs": [
    {
     "name": "stdout",
     "output_type": "stream",
     "text": [
      "Demo:: Topic: <<Topic: 'demo 1' at 0X22946bdc188>> has new value: SMART\n",
      "Demo:: Topic: <<Topic: 'demo 1' at 0X22946bdc188>> has new value: SMART\n"
     ]
    }
   ],
   "source": [
    "# Unless we 'force' it\n",
    "t1.publish(\"SMART\", force=False) # You see ...\n",
    "t1.publish(\"SMART\", force=True)"
   ]
  },
  {
   "cell_type": "markdown",
   "metadata": {
    "slideshow": {
     "slide_type": "slide"
    }
   },
   "source": [
    "# Demo 2\n",
    "Now with multiple (4) subscribers (on another topic)"
   ]
  },
  {
   "cell_type": "code",
   "execution_count": 9,
   "metadata": {
    "slideshow": {
     "slide_type": "subslide"
    }
   },
   "outputs": [],
   "source": [
    "t2= Topic(\"demo2\")"
   ]
  },
  {
   "cell_type": "code",
   "execution_count": 10,
   "metadata": {},
   "outputs": [],
   "source": [
    "def demo_2(val, topic):\n",
    "    print(\"Demo 2:: Topic: %s has new value: %s\" %(topic, val))\n",
    "def demo_3(val, topic):\n",
    "    print(\"Demo 3:: Topic: %s has new value: %s\" %(topic, val))\n",
    "def demo_4(val, topic):\n",
    "    print(\"Demo 4:: Topic: %s has new value: %s\" %(topic, val))    "
   ]
  },
  {
   "cell_type": "code",
   "execution_count": 11,
   "metadata": {},
   "outputs": [],
   "source": [
    "t2.subscribe(demo)\n",
    "t2.subscribe(demo_2)\n",
    "t2.subscribe(demo_3)\n",
    "t2.subscribe(demo_4)"
   ]
  },
  {
   "cell_type": "code",
   "execution_count": 12,
   "metadata": {
    "slideshow": {
     "slide_type": "subslide"
    }
   },
   "outputs": [
    {
     "name": "stdout",
     "output_type": "stream",
     "text": [
      "Demo:: Topic: <<Topic: 'demo2' at 0X22946bdc648>> has new value: ALL\n",
      "Demo 2:: Topic: <<Topic: 'demo2' at 0X22946bdc648>> has new value: ALL\n",
      "Demo 3:: Topic: <<Topic: 'demo2' at 0X22946bdc648>> has new value: ALL\n",
      "Demo 4:: Topic: <<Topic: 'demo2' at 0X22946bdc648>> has new value: ALL\n"
     ]
    }
   ],
   "source": [
    "t2.publish(\"ALL\")"
   ]
  },
  {
   "cell_type": "markdown",
   "metadata": {
    "slideshow": {
     "slide_type": "slide"
    }
   },
   "source": [
    "# Demo 3: OO subscribers\n",
    "* We can also subscribe a method of a class-instance\n",
    "  - Python will automatically remember the object (self)\n",
    "* Here, we use a *trick* (``self._no``) to show the different instances"
   ]
  },
  {
   "cell_type": "code",
   "execution_count": 13,
   "metadata": {
    "slideshow": {
     "slide_type": "subslide"
    }
   },
   "outputs": [],
   "source": [
    "class Demo:\n",
    "    _stat_count=0\n",
    "    def __init__(self):\n",
    "        self._no = Demo._stat_count # make them unique\n",
    "        Demo._stat_count+=1\n",
    "\n",
    "    def demo(self, val, topic):\n",
    "        print(\"%s got '%s' from topic %s\" %(\n",
    "        self, val, topic))\n",
    "        \n",
    "    def __str__(self):\n",
    "        return \"<<%s: ._no=%d at 0X%x>>\" % (\n",
    "            self.__class__.__name__, self._no, id(self))"
   ]
  },
  {
   "cell_type": "code",
   "execution_count": 14,
   "metadata": {
    "slideshow": {
     "slide_type": "subslide"
    }
   },
   "outputs": [],
   "source": [
    "o = Demo()"
   ]
  },
  {
   "cell_type": "code",
   "execution_count": 15,
   "metadata": {},
   "outputs": [],
   "source": [
    "t3 = Topic(\"OO Demo\")"
   ]
  },
  {
   "cell_type": "code",
   "execution_count": 16,
   "metadata": {},
   "outputs": [],
   "source": [
    "t3.subscribe(o.demo)"
   ]
  },
  {
   "cell_type": "code",
   "execution_count": 17,
   "metadata": {
    "slideshow": {
     "slide_type": "subslide"
    }
   },
   "outputs": [
    {
     "name": "stdout",
     "output_type": "stream",
     "text": [
      "<<Demo: ._no=0 at 0X22946ac6488>> got 'class' from topic <<Topic: 'OO Demo' at 0X22946ac2548>>\n"
     ]
    }
   ],
   "source": [
    "t3.publish(\"class\")"
   ]
  },
  {
   "cell_type": "markdown",
   "metadata": {
    "slideshow": {
     "slide_type": "slide"
    }
   },
   "source": [
    "## Mix and Match\n",
    "* As shown, it possible to mix classic functions and *objects*\n",
    "* Again we can subscribe multiple instances"
   ]
  },
  {
   "cell_type": "code",
   "execution_count": 18,
   "metadata": {
    "slideshow": {
     "slide_type": "subslide"
    }
   },
   "outputs": [],
   "source": [
    "t4 = Topic(\"four-10-plys\")\n",
    "t4.subscribe(demo)\n",
    "for x in range(10): # Quicly create/subscribe 10 Demo-instances\n",
    "    t4.subscribe(Demo().demo)\n",
    "t4.subscribe(demo_4)\n",
    "t4.subscribe(demo_3)\n",
    "t4.subscribe(demo_2)"
   ]
  },
  {
   "cell_type": "code",
   "execution_count": 19,
   "metadata": {
    "slideshow": {
     "slide_type": "subslide"
    }
   },
   "outputs": [
    {
     "name": "stdout",
     "output_type": "stream",
     "text": [
      "Demo:: Topic: <<Topic: 'four-10-plys' at 0X22946be7c08>> has new value: Yes\n",
      "<<Demo: ._no=1 at 0X22946be7c48>> got 'Yes' from topic <<Topic: 'four-10-plys' at 0X22946be7c08>>\n",
      "<<Demo: ._no=2 at 0X22946be7c88>> got 'Yes' from topic <<Topic: 'four-10-plys' at 0X22946be7c08>>\n",
      "<<Demo: ._no=3 at 0X22946be7cc8>> got 'Yes' from topic <<Topic: 'four-10-plys' at 0X22946be7c08>>\n",
      "<<Demo: ._no=4 at 0X22946be7d08>> got 'Yes' from topic <<Topic: 'four-10-plys' at 0X22946be7c08>>\n",
      "<<Demo: ._no=5 at 0X22946be7d88>> got 'Yes' from topic <<Topic: 'four-10-plys' at 0X22946be7c08>>\n",
      "<<Demo: ._no=6 at 0X22946be7dc8>> got 'Yes' from topic <<Topic: 'four-10-plys' at 0X22946be7c08>>\n",
      "<<Demo: ._no=7 at 0X22946be7e08>> got 'Yes' from topic <<Topic: 'four-10-plys' at 0X22946be7c08>>\n",
      "<<Demo: ._no=8 at 0X22946be7e48>> got 'Yes' from topic <<Topic: 'four-10-plys' at 0X22946be7c08>>\n",
      "<<Demo: ._no=9 at 0X22945746208>> got 'Yes' from topic <<Topic: 'four-10-plys' at 0X22946be7c08>>\n",
      "<<Demo: ._no=10 at 0X22946be7d48>> got 'Yes' from topic <<Topic: 'four-10-plys' at 0X22946be7c08>>\n",
      "Demo 4:: Topic: <<Topic: 'four-10-plys' at 0X22946be7c08>> has new value: Yes\n",
      "Demo 3:: Topic: <<Topic: 'four-10-plys' at 0X22946be7c08>> has new value: Yes\n",
      "Demo 2:: Topic: <<Topic: 'four-10-plys' at 0X22946be7c08>> has new value: Yes\n"
     ]
    }
   ],
   "source": [
    "t4.publish('Yes')"
   ]
  },
  {
   "cell_type": "markdown",
   "metadata": {
    "slideshow": {
     "slide_type": "slide"
    }
   },
   "source": [
    "# That's all folks!\n",
    "![From WikiMedia](https://upload.wikimedia.org/wikipedia/commons/e/ea/Thats_all_folks.svg)\n"
   ]
  },
  {
   "cell_type": "code",
   "execution_count": 20,
   "metadata": {},
   "outputs": [
    {
     "name": "stdout",
     "output_type": "stream",
     "text": [
      "Done at: 2020-03-20 09:28:52.494755\n"
     ]
    }
   ],
   "source": [
    "from datetime import datetime\n",
    "print(\"Done at:\", datetime.now())\n",
    "#EoF"
   ]
  }
 ],
 "metadata": {
  "celltoolbar": "Slideshow",
  "kernelspec": {
   "display_name": "Python 3",
   "language": "python",
   "name": "python3"
  },
  "language_info": {
   "codemirror_mode": {
    "name": "ipython",
    "version": 3
   },
   "file_extension": ".py",
   "mimetype": "text/x-python",
   "name": "python",
   "nbconvert_exporter": "python",
   "pygments_lexer": "ipython3",
   "version": "3.7.6"
  }
 },
 "nbformat": 4,
 "nbformat_minor": 2
}
