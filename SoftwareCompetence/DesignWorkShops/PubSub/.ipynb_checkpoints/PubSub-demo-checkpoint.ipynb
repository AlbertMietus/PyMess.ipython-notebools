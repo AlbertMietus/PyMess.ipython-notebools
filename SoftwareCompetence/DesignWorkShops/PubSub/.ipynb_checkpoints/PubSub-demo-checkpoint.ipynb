{
 "cells": [
  {
   "cell_type": "markdown",
   "metadata": {
    "slideshow": {
     "slide_type": "slide"
    }
   },
   "source": [
    "# **Pub**/*Sub*  workshop Demo\n",
    "\n",
    "*This notebook is part of my \n",
    "[MESS](http://mess.softwarebetermaken.nl)\n",
    "[Design Workshop](http://mess.softwarebetermaken.nl/en/latest/SoftwareCompetence/DesignWorkShops/)\n",
    "[PubSub](http://mess.softwarebetermaken.nl/en/latest/SoftwareCompetence/DesignWorkShops/PubSub/)*\n",
    "{[DRAFT](http://mess.softwarebetermaken.nl/en/dev-designworkshop/SoftwareCompetence/DesignWorkShops/PubSub/index.html)}\n",
    "\n",
    "## A complete PubSub demo in python\n",
    "\n",
    "For instruction to run, or see it as a slideshow, see: http://mess.softwarebetermaken.nl/en/latest/SoftwareCompetence/DesignWorkShops/PubSub/demo/index.html\n",
    "{[Draft](http://mess.softwarebetermaken.nl/en/dev-designworkshop/SoftwareCompetence/DesignWorkShops/PubSub/demo/index.html)}\n",
    "\n",
    "----\n",
    " \n",
    "**Notes** *(in slides-mode):*\n",
    "\n",
    "* Use the **spacebar** to forward to the next slide *after* selecting (clicking) in this frame. \n",
    "* Or, click the **outer-edge** to open in a new window/tab. And use **'F'** for full-window mode"
   ]
  },
  {
   "cell_type": "markdown",
   "metadata": {
    "slideshow": {
     "slide_type": "subslide"
    }
   },
   "source": [
    "## The Demo\n",
    "\n",
    "Some demos in python\n",
    "1. A complete implementation\n",
    "   2. A **Topic** class\n",
    "   2. With a subscribe and a publish method\n",
    "1. Several *\"demo\"* subscribers\n",
    "   2. They just print  ...\n",
    "      - Real functionality is left to the reader\n",
    "   2. Both in function-style and in OO-style\n",
    "      - And, in the mixture \n",
    "1. Use it, by publishing *to all* \n",
    "   2. Life, interactive; in IPython (& Jupyter) notebook\n",
    "   2. *Revealjs* slides, generated from above\n",
    " \n",
    " Both, the notebook & slides are downloadable"
   ]
  },
  {
   "cell_type": "markdown",
   "metadata": {
    "slideshow": {
     "slide_type": "slide"
    }
   },
   "source": [
    "## The basics: A Topic class\n",
    "* A simple ``Topic`` class\n",
    "* And a trivial function that is use to subscribe"
   ]
  },
  {
   "cell_type": "code",
   "execution_count": 1,
   "metadata": {
    "slideshow": {
     "slide_type": "subslide"
    }
   },
   "outputs": [],
   "source": [
    "class Topic():\n",
    "    def __init__(self, name=None, initial_value=None):\n",
    "        self.name = \"\" if name is None else str(name)\n",
    "        self._callbacks = []\n",
    "        self._value = initial_value\n",
    "\n",
    "    def subscribe(self, callback):\n",
    "        if not callback in self._callbacks:\n",
    "            self._callbacks.append(callback)\n",
    "\n",
    "    def publish(self, value, force=False):\n",
    "        if force or self._value != value:\n",
    "            self._call_callbacks(value)\n",
    "            self._value = value\n",
    "\n",
    "    def _call_callbacks(self, new_value):\n",
    "        for cb in self._callbacks:\n",
    "            cb(new_value, self)\n",
    "\n",
    "    def __str__(self):\n",
    "        return \"<<%s: '%s' at 0X%x>>\" % (\n",
    "            self.__class__.__name__, self.name, id(self))"
   ]
  },
  {
   "cell_type": "code",
   "execution_count": 2,
   "metadata": {
    "slideshow": {
     "slide_type": "-"
    }
   },
   "outputs": [],
   "source": [
    "def demo(val, topic):\n",
    "    print(\"Demo:: Topic: %s has new value: %s\" %(topic, val))"
   ]
  },
  {
   "cell_type": "markdown",
   "metadata": {},
   "source": [
    "Notes: You can ignore ``Topic.__init__()`` and ``Topic.__str__()`` for now"
   ]
  },
  {
   "cell_type": "markdown",
   "metadata": {
    "slideshow": {
     "slide_type": "slide"
    }
   },
   "source": [
    "# Demo 1: Simple use\n",
    "\n",
    "* Create a topic\n",
    "* Subscribe ``demo``\n",
    "* Publish a value"
   ]
  },
  {
   "cell_type": "code",
   "execution_count": 3,
   "metadata": {
    "slideshow": {
     "slide_type": "subslide"
    }
   },
   "outputs": [],
   "source": [
    "t1=Topic(\"demo 1\")"
   ]
  },
  {
   "cell_type": "code",
   "execution_count": 4,
   "metadata": {
    "slideshow": {
     "slide_type": "-"
    }
   },
   "outputs": [],
   "source": [
    "t1.subscribe(demo)"
   ]
  },
  {
   "cell_type": "code",
   "execution_count": 5,
   "metadata": {},
   "outputs": [
    {
     "name": "stdout",
     "output_type": "stream",
     "text": [
      "Demo:: Topic: <<Topic: 'demo 1' at 0X192e8f50888>> has new value: HOI\n"
     ]
    }
   ],
   "source": [
    "t1.publish(\"HOI\")"
   ]
  },
  {
   "cell_type": "markdown",
   "metadata": {},
   "source": [
    "**Using** a Topic is trivial: \n",
    "\n",
    "Once a topic is created and a *callback* is registerd, that function is called whenever a new value is pubished. "
   ]
  },
  {
   "cell_type": "markdown",
   "metadata": {
    "slideshow": {
     "slide_type": "subslide"
    }
   },
   "source": [
    "## 1a: This pub/sub is *smart*\n",
    "* It will *not* distribute the same value twice. \n",
    "* Unless it is asked to do so (`force`)"
   ]
  },
  {
   "cell_type": "code",
   "execution_count": 6,
   "metadata": {},
   "outputs": [
    {
     "name": "stdout",
     "output_type": "stream",
     "text": [
      "Demo:: Topic: <<Topic: 'demo 1' at 0X192e8f50888>> has new value: AGAIN\n"
     ]
    }
   ],
   "source": [
    "# Only a changed value will be published\n",
    "t1.publish(\"AGAIN\")\n",
    "t1.publish(\"AGAIN\")"
   ]
  },
  {
   "cell_type": "code",
   "execution_count": 7,
   "metadata": {},
   "outputs": [
    {
     "name": "stdout",
     "output_type": "stream",
     "text": [
      "Demo:: Topic: <<Topic: 'demo 1' at 0X192e8f50888>> has new value: FORCE\n",
      "Demo:: Topic: <<Topic: 'demo 1' at 0X192e8f50888>> has new value: FORCE\n"
     ]
    }
   ],
   "source": [
    "# Unless we 'force' it\n",
    "t1.publish(\"FORCE\", force=True) # This force is needed, as it isn't \"again\" ...\n",
    "t1.publish(\"FORCE\", force=True)"
   ]
  },
  {
   "cell_type": "code",
   "execution_count": 8,
   "metadata": {},
   "outputs": [
    {
     "name": "stdout",
     "output_type": "stream",
     "text": [
      "Demo:: Topic: <<Topic: 'demo 1' at 0X192e8f50888>> has new value: SMART\n",
      "Demo:: Topic: <<Topic: 'demo 1' at 0X192e8f50888>> has new value: SMART\n"
     ]
    }
   ],
   "source": [
    "# Unless we 'force' it\n",
    "t1.publish(\"SMART\", force=False) # You see ...\n",
    "t1.publish(\"SMART\", force=True)"
   ]
  },
  {
   "cell_type": "markdown",
   "metadata": {},
   "source": [
    "## 1b: Even more smartness\n",
    "\n",
    "This ``Topic`` will not subscribe the same function again\n"
   ]
  },
  {
   "cell_type": "code",
   "execution_count": 9,
   "metadata": {},
   "outputs": [
    {
     "name": "stdout",
     "output_type": "stream",
     "text": [
      "Demo:: Topic: <<Topic: 'demo 1' at 0X192e8f50888>> has new value: I'm so smart\n"
     ]
    }
   ],
   "source": [
    "t1.publish(\"I'm so smart\")"
   ]
  },
  {
   "cell_type": "code",
   "execution_count": 10,
   "metadata": {},
   "outputs": [
    {
     "name": "stdout",
     "output_type": "stream",
     "text": [
      "Demo:: Topic: <<Topic: 'demo 1' at 0X192e8f50888>> has new value: As I call demo only once\n"
     ]
    }
   ],
   "source": [
    "# `demo` is already registered above\n",
    "t1.subscribe(demo)   # will silently be ingnored\n",
    "t1.publish(\"As I call demo only once\")"
   ]
  },
  {
   "cell_type": "markdown",
   "metadata": {
    "slideshow": {
     "slide_type": "slide"
    }
   },
   "source": [
    "# Demo 2: Multi-use\n",
    "\n",
    "Now with multiple subscribers\n",
    "\n",
    "* We create (another) Topic: ``t2``\n",
    "* And a handfull of (*again, trivial*) demo-callbacs\n",
    "\n",
    "And subscribe all *callbacks* to the same ``t2`` Topic ...\n",
    "\n",
    "Then, all are executed as when ``publish()`` is called (once).\n",
    "\n",
    "----\n",
    "\n",
    "*It is so easy :-)*"
   ]
  },
  {
   "cell_type": "code",
   "execution_count": 11,
   "metadata": {
    "slideshow": {
     "slide_type": "subslide"
    }
   },
   "outputs": [],
   "source": [
    "t2= Topic(\"demo2\")"
   ]
  },
  {
   "cell_type": "code",
   "execution_count": 12,
   "metadata": {},
   "outputs": [],
   "source": [
    "def demo_2(val, topic):\n",
    "    print(\"Demo 2:: Topic: %s has new value: %s\" %(topic, val))\n",
    "def demo_3(val, topic):\n",
    "    print(\"Demo 3:: Topic: %s has new value: %s\" %(topic, val))\n",
    "def demo_4(val, topic):\n",
    "    print(\"Demo 4:: Topic: %s has new value: %s\" %(topic, val))    "
   ]
  },
  {
   "cell_type": "code",
   "execution_count": 13,
   "metadata": {},
   "outputs": [],
   "source": [
    "t2.subscribe(demo)\n",
    "t2.subscribe(demo_2)\n",
    "t2.subscribe(demo_3)\n",
    "t2.subscribe(demo_4)"
   ]
  },
  {
   "cell_type": "code",
   "execution_count": 14,
   "metadata": {
    "slideshow": {
     "slide_type": "subslide"
    }
   },
   "outputs": [
    {
     "name": "stdout",
     "output_type": "stream",
     "text": [
      "Demo:: Topic: <<Topic: 'demo2' at 0X192e8f50508>> has new value: ALL\n",
      "Demo 2:: Topic: <<Topic: 'demo2' at 0X192e8f50508>> has new value: ALL\n",
      "Demo 3:: Topic: <<Topic: 'demo2' at 0X192e8f50508>> has new value: ALL\n",
      "Demo 4:: Topic: <<Topic: 'demo2' at 0X192e8f50508>> has new value: ALL\n"
     ]
    }
   ],
   "source": [
    "t2.publish(\"ALL\")"
   ]
  },
  {
   "cell_type": "code",
   "execution_count": 15,
   "metadata": {},
   "outputs": [
    {
     "name": "stdout",
     "output_type": "stream",
     "text": [
      "Demo:: Topic: <<Topic: 'demo2' at 0X192e8f50508>> has new value: again\n",
      "Demo 2:: Topic: <<Topic: 'demo2' at 0X192e8f50508>> has new value: again\n",
      "Demo 3:: Topic: <<Topic: 'demo2' at 0X192e8f50508>> has new value: again\n",
      "Demo 4:: Topic: <<Topic: 'demo2' at 0X192e8f50508>> has new value: again\n"
     ]
    }
   ],
   "source": [
    "t2.publish(\"again\")"
   ]
  },
  {
   "cell_type": "markdown",
   "metadata": {},
   "source": [
    "Surely, we can add more *subscribers*, and *publish* more often ...\n"
   ]
  },
  {
   "cell_type": "markdown",
   "metadata": {
    "slideshow": {
     "slide_type": "slide"
    }
   },
   "source": [
    "# Demo 3: OO subscribers\n",
    "\n",
    "You can also subscribe *methods*, when you prefer an OO style. \n",
    "This works the same as with functions: just register the method.\n",
    "\n",
    "* We will define a class with a demo-callback\n",
    "* And register it to a new Topic: ``t3``"
   ]
  },
  {
   "cell_type": "markdown",
   "metadata": {},
   "source": [
    "---\n",
    "\n",
    "Notes:\n",
    "* Python will automatically remember the object (``self``)\n",
    "* Here, we use a *trick* (``self._no``) to show the different instances"
   ]
  },
  {
   "cell_type": "code",
   "execution_count": 16,
   "metadata": {
    "slideshow": {
     "slide_type": "subslide"
    }
   },
   "outputs": [],
   "source": [
    "class Demo:\n",
    "    _stat_count=0\n",
    "    def __init__(self):\n",
    "        self._no = Demo._stat_count # make them unique\n",
    "        Demo._stat_count+=1\n",
    "\n",
    "    def demo(self, val, topic):\n",
    "        print(\"%s got '%s' from topic %s\" %(\n",
    "        self, val, topic))\n",
    "        \n",
    "    def __str__(self):\n",
    "        return \"<<%s: ._no=%d at 0X%x>>\" % (\n",
    "            self.__class__.__name__, self._no, id(self))"
   ]
  },
  {
   "cell_type": "code",
   "execution_count": 17,
   "metadata": {
    "slideshow": {
     "slide_type": "subslide"
    }
   },
   "outputs": [],
   "source": [
    "o = Demo()"
   ]
  },
  {
   "cell_type": "code",
   "execution_count": 18,
   "metadata": {},
   "outputs": [],
   "source": [
    "t3 = Topic(\"OO Demo\")"
   ]
  },
  {
   "cell_type": "code",
   "execution_count": 19,
   "metadata": {},
   "outputs": [],
   "source": [
    "t3.subscribe(o.demo)"
   ]
  },
  {
   "cell_type": "code",
   "execution_count": 20,
   "metadata": {
    "slideshow": {
     "slide_type": "subslide"
    }
   },
   "outputs": [
    {
     "name": "stdout",
     "output_type": "stream",
     "text": [
      "<<Demo: ._no=0 at 0X192e8e2b588>> got 'class' from topic <<Topic: 'OO Demo' at 0X192e8e39d88>>\n"
     ]
    }
   ],
   "source": [
    "t3.publish(\"class\")"
   ]
  },
  {
   "cell_type": "markdown",
   "metadata": {
    "slideshow": {
     "slide_type": "slide"
    }
   },
   "source": [
    "# Demo4:  Mix and Match\n",
    "\n",
    "You can mix-&-match all the several uses:\n",
    "* Classic functions and *objects*\n",
    "* Register many callbacks\n",
    "  - In this demo, we use a loop to quckly define many callback.\n",
    "* Subscribe after a publication  \n",
    "  "
   ]
  },
  {
   "cell_type": "markdown",
   "metadata": {
    "slideshow": {
     "slide_type": "subslide"
    }
   },
   "source": [
    "## 4.1 many subscribers"
   ]
  },
  {
   "cell_type": "code",
   "execution_count": 21,
   "metadata": {
    "slideshow": {
     "slide_type": "-"
    }
   },
   "outputs": [],
   "source": [
    "t4 = Topic(\"four-10-plys\")\n",
    "t4.subscribe(demo)\n",
    "for x in range(10): # Quicly create/subscribe 10 Demo-instances\n",
    "    t4.subscribe(Demo().demo)\n",
    "t4.subscribe(demo_4)\n",
    "t4.subscribe(demo_3)\n",
    "t4.subscribe(demo_2)"
   ]
  },
  {
   "cell_type": "code",
   "execution_count": 22,
   "metadata": {
    "slideshow": {
     "slide_type": "subslide"
    }
   },
   "outputs": [
    {
     "name": "stdout",
     "output_type": "stream",
     "text": [
      "Demo:: Topic: <<Topic: 'four-10-plys' at 0X192e8f67308>> has new value: Yes\n",
      "<<Demo: ._no=1 at 0X192e8f67348>> got 'Yes' from topic <<Topic: 'four-10-plys' at 0X192e8f67308>>\n",
      "<<Demo: ._no=2 at 0X192e8f67388>> got 'Yes' from topic <<Topic: 'four-10-plys' at 0X192e8f67308>>\n",
      "<<Demo: ._no=3 at 0X192e8f673c8>> got 'Yes' from topic <<Topic: 'four-10-plys' at 0X192e8f67308>>\n",
      "<<Demo: ._no=4 at 0X192e8f67408>> got 'Yes' from topic <<Topic: 'four-10-plys' at 0X192e8f67308>>\n",
      "<<Demo: ._no=5 at 0X192e8f67488>> got 'Yes' from topic <<Topic: 'four-10-plys' at 0X192e8f67308>>\n",
      "<<Demo: ._no=6 at 0X192e8f674c8>> got 'Yes' from topic <<Topic: 'four-10-plys' at 0X192e8f67308>>\n",
      "<<Demo: ._no=7 at 0X192e8f67508>> got 'Yes' from topic <<Topic: 'four-10-plys' at 0X192e8f67308>>\n",
      "<<Demo: ._no=8 at 0X192e8f67548>> got 'Yes' from topic <<Topic: 'four-10-plys' at 0X192e8f67308>>\n",
      "<<Demo: ._no=9 at 0X192e8f67448>> got 'Yes' from topic <<Topic: 'four-10-plys' at 0X192e8f67308>>\n",
      "<<Demo: ._no=10 at 0X192e8f675c8>> got 'Yes' from topic <<Topic: 'four-10-plys' at 0X192e8f67308>>\n",
      "Demo 4:: Topic: <<Topic: 'four-10-plys' at 0X192e8f67308>> has new value: Yes\n",
      "Demo 3:: Topic: <<Topic: 'four-10-plys' at 0X192e8f67308>> has new value: Yes\n",
      "Demo 2:: Topic: <<Topic: 'four-10-plys' at 0X192e8f67308>> has new value: Yes\n"
     ]
    }
   ],
   "source": [
    "t4.publish('Yes')"
   ]
  },
  {
   "cell_type": "markdown",
   "metadata": {
    "slideshow": {
     "slide_type": "subslide"
    }
   },
   "source": [
    "## 4.2 : Subscribe after 1st publish"
   ]
  },
  {
   "cell_type": "code",
   "execution_count": 23,
   "metadata": {},
   "outputs": [
    {
     "name": "stdout",
     "output_type": "stream",
     "text": [
      "Demo:: Topic: <<Topic: '' at 0X192e8f5e248>> has new value: fist\n"
     ]
    }
   ],
   "source": [
    "t42 = Topic()\n",
    "t42.subscribe(demo)\n",
    "t42.publish(\"fist\")"
   ]
  },
  {
   "cell_type": "code",
   "execution_count": 24,
   "metadata": {},
   "outputs": [],
   "source": [
    "# Now add subscribe another callback\n",
    "t42. subscribe(demo_2)"
   ]
  },
  {
   "cell_type": "code",
   "execution_count": 25,
   "metadata": {},
   "outputs": [
    {
     "name": "stdout",
     "output_type": "stream",
     "text": [
      "Demo:: Topic: <<Topic: '' at 0X192e8f5e248>> has new value: more and more\n",
      "Demo 2:: Topic: <<Topic: '' at 0X192e8f5e248>> has new value: more and more\n"
     ]
    }
   ],
   "source": [
    "t42.publish(\"more and more\")"
   ]
  },
  {
   "cell_type": "markdown",
   "metadata": {
    "slideshow": {
     "slide_type": "slide"
    }
   },
   "source": [
    "![From WikiMedia](https://upload.wikimedia.org/wikipedia/commons/e/ea/Thats_all_folks.svg)\n",
    "\n",
    "Back to the \n",
    "[main presentation](http://mess.softwarebetermaken.nl/en/latest/SoftwareCompetence/DesignWorkShops/PubSub/index.html)"
   ]
  },
  {
   "cell_type": "code",
   "execution_count": 26,
   "metadata": {},
   "outputs": [
    {
     "name": "stdout",
     "output_type": "stream",
     "text": [
      "These slides are generated at: 2020-03-22 14:15:38.809070+01:00\n"
     ]
    }
   ],
   "source": [
    "import datetime, pytz\n",
    "print(\"These slides are generated at:\", datetime.datetime.now(pytz.timezone('Europe/Amsterdam')))\n",
    "#EoF"
   ]
  }
 ],
 "metadata": {
  "celltoolbar": "Slideshow",
  "kernelspec": {
   "display_name": "Python 3",
   "language": "python",
   "name": "python3"
  },
  "language_info": {
   "codemirror_mode": {
    "name": "ipython",
    "version": 3
   },
   "file_extension": ".py",
   "mimetype": "text/x-python",
   "name": "python",
   "nbconvert_exporter": "python",
   "pygments_lexer": "ipython3",
   "version": "3.7.6"
  }
 },
 "nbformat": 4,
 "nbformat_minor": 2
}
